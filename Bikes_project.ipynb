{
 "cells": [
  {
   "cell_type": "code",
   "execution_count": 1,
   "id": "3e7f4b25",
   "metadata": {},
   "outputs": [],
   "source": [
    "import pandas as pd\n",
    "import numpy as np\n",
    "import matplotlib.pyplot as plt"
   ]
  },
  {
   "cell_type": "code",
   "execution_count": 3,
   "id": "2da363e3",
   "metadata": {},
   "outputs": [
    {
     "name": "stdout",
     "output_type": "stream",
     "text": [
      "<class 'pandas.core.frame.DataFrame'>\n",
      "RangeIndex: 8760 entries, 0 to 8759\n",
      "Data columns (total 14 columns):\n",
      " #   Column                    Non-Null Count  Dtype  \n",
      "---  ------                    --------------  -----  \n",
      " 0   Date                      8760 non-null   object \n",
      " 1   Rented Bike Count         8760 non-null   int64  \n",
      " 2   Hour                      8760 non-null   int64  \n",
      " 3   Temperature(C)            8760 non-null   float64\n",
      " 4   Humidity(%)               8760 non-null   int64  \n",
      " 5   Wind speed (m/s)          8760 non-null   float64\n",
      " 6   Visibility (10m)          8760 non-null   int64  \n",
      " 7   Dew point temperature(C)  8760 non-null   float64\n",
      " 8   Solar Radiation (MJ/m2)   8760 non-null   float64\n",
      " 9   Rainfall(mm)              8760 non-null   float64\n",
      " 10  Snowfall (cm)             8760 non-null   float64\n",
      " 11  Seasons                   8760 non-null   object \n",
      " 12  Holiday                   8760 non-null   object \n",
      " 13  Functioning Day           8760 non-null   object \n",
      "dtypes: float64(6), int64(4), object(4)\n",
      "memory usage: 958.2+ KB\n",
      "None\n"
     ]
    }
   ],
   "source": [
    "bikes_df = pd.read_csv('SeoulBikeData.csv')\n",
    "print(bikes_df.info())"
   ]
  }
 ],
 "metadata": {
  "kernelspec": {
   "display_name": "Python 3 (ipykernel)",
   "language": "python",
   "name": "python3"
  },
  "language_info": {
   "codemirror_mode": {
    "name": "ipython",
    "version": 3
   },
   "file_extension": ".py",
   "mimetype": "text/x-python",
   "name": "python",
   "nbconvert_exporter": "python",
   "pygments_lexer": "ipython3",
   "version": "3.9.5"
  }
 },
 "nbformat": 4,
 "nbformat_minor": 5
}
